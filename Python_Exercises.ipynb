{
  "nbformat": 4,
  "nbformat_minor": 0,
  "metadata": {
    "colab": {
      "provenance": [],
      "authorship_tag": "ABX9TyN7bxLx2VET+kXAoyI/uNN3",
      "include_colab_link": true
    },
    "kernelspec": {
      "name": "python3",
      "display_name": "Python 3"
    },
    "language_info": {
      "name": "python"
    }
  },
  "cells": [
    {
      "cell_type": "markdown",
      "metadata": {
        "id": "view-in-github",
        "colab_type": "text"
      },
      "source": [
        "<a href=\"https://colab.research.google.com/github/PatrickBassan/python-exercises/blob/master/Python_Exercises.ipynb\" target=\"_parent\"><img src=\"https://colab.research.google.com/assets/colab-badge.svg\" alt=\"Open In Colab\"/></a>"
      ]
    },
    {
      "cell_type": "markdown",
      "source": [
        "##Exercício 1 - Par ou Ímpar"
      ],
      "metadata": {
        "id": "YqTBpwm6Fp0m"
      }
    },
    {
      "cell_type": "code",
      "execution_count": 2,
      "metadata": {
        "colab": {
          "base_uri": "https://localhost:8080/"
        },
        "id": "MbrkMVJnFm46",
        "outputId": "85705ad1-9f7e-4f8d-f62e-23f7aa11d422"
      },
      "outputs": [
        {
          "output_type": "stream",
          "name": "stdout",
          "text": [
            "Digite um número: 5\n",
            "Número ímpar\n"
          ]
        }
      ],
      "source": [
        "num = int(input(\"Digite um número: \"))\n",
        "mod = num % 2\n",
        "if mod > 0:\n",
        "    print(\"Número ímpar\")\n",
        "else:\n",
        "    print(\"Número par\")"
      ]
    },
    {
      "cell_type": "markdown",
      "source": [
        "##Exercício 2 - Palíndromos"
      ],
      "metadata": {
        "id": "gNzxuV-eGkK1"
      }
    },
    {
      "cell_type": "code",
      "source": [
        "def isPalindrome(s):\n",
        "    return s == s[::-1]\n",
        " \n",
        " \n",
        "s = input(\"Digite uma palavra: \")\n",
        "ans = isPalindrome(s)\n",
        " \n",
        "if ans:\n",
        "    print(\"A palavra é palíndromo\")\n",
        "else:\n",
        "    print(\"A palavra não é palíndromo\")"
      ],
      "metadata": {
        "colab": {
          "base_uri": "https://localhost:8080/"
        },
        "id": "lnl0LUEPGmMH",
        "outputId": "239ebe14-83fb-479a-c0a7-6183e2b46d63"
      },
      "execution_count": 25,
      "outputs": [
        {
          "output_type": "stream",
          "name": "stdout",
          "text": [
            "Digite uma palavra: arara\n",
            "A palavra é palíndromo\n"
          ]
        }
      ]
    },
    {
      "cell_type": "markdown",
      "source": [
        "##Exercício 3 - Pedra, Papel, Tesoura"
      ],
      "metadata": {
        "id": "6_uouiGHGmyV"
      }
    },
    {
      "cell_type": "code",
      "source": [
        "print(\"Opções de jogada: pedra, papel, tesoura\")\n",
        "print(\"Para sair, digite: sair\")\n",
        "\n",
        "while True: \n",
        "  player1 = input(\"P1 - Digite sua jogada: \")\n",
        "  if player1 == \"sair\":\n",
        "    break\n",
        "\n",
        "  player2 = input(\"P2 - Digite sua jogada: \")\n",
        "  if player2 == \"sair\":\n",
        "    break\n",
        "\n",
        "  if player1 == player2:\n",
        "        print(\"Empate!\")\n",
        "  elif player1 == \"pedra\":\n",
        "        if player2 == \"papel\":\n",
        "            print(\"Player 1 perdeu!\")\n",
        "        else:\n",
        "            print(\"Player 1 ganhou!\")\n",
        "  elif player1 == \"papel\":\n",
        "        if player2 == \"tesoura\":\n",
        "            print(\"Player 1 perdeu!\")\n",
        "        else:\n",
        "            print(\"Player 1 ganhou!\")\n",
        "  elif player1 == \"tesoura\":\n",
        "        if player2 == \"pedra\":\n",
        "            print(\"Player 1 perdeu!\")\n",
        "        else:\n",
        "            print(\"Player 1 ganhou!\")\n",
        "  else:\n",
        "      print(\"Essa jogada foi inválida. Selecione uma opção válida!\")\n"
      ],
      "metadata": {
        "colab": {
          "base_uri": "https://localhost:8080/"
        },
        "id": "LPUgUV06GoiJ",
        "outputId": "84688565-0a35-4639-b052-3ee9e4de2020"
      },
      "execution_count": 13,
      "outputs": [
        {
          "name": "stdout",
          "output_type": "stream",
          "text": [
            "Opções de jogada: pedra, papel, tesoura\n",
            "Para sair, digite: sair\n",
            "Digite sua jogada:papel\n",
            "Digite sua jogada:tesoura\n",
            "Player 1 perdeu!\n",
            "Digite sua jogada:sa\n",
            "Digite sua jogada:sair\n"
          ]
        }
      ]
    },
    {
      "cell_type": "markdown",
      "source": [
        "##Exercício 4 - Jogo da adivinhação"
      ],
      "metadata": {
        "id": "7ObvOfCyGp7i"
      }
    },
    {
      "cell_type": "code",
      "source": [
        "import random\n",
        "\n",
        "print(\"Para sair, digite sair\")\n",
        "rand = random.randint(1, 9)\n",
        "\n",
        "while True:\n",
        "  num = input(\"Advinhe o número: \")\n",
        "  if num == \"sair\":\n",
        "    break\n",
        "  elif int(num) == rand:\n",
        "    print(\"Tetantia correta\")\n",
        "    rand = random.randint(1, 9)\n",
        "  elif int(num) > rand:\n",
        "    print(\"Tentativa foi maior\")\n",
        "  else:\n",
        "    print(\"Tentativa foi menor\")"
      ],
      "metadata": {
        "colab": {
          "base_uri": "https://localhost:8080/"
        },
        "id": "7fpeDmiDGqd6",
        "outputId": "9be64e57-9d55-40bf-fd3a-8c8e184c1aad"
      },
      "execution_count": 11,
      "outputs": [
        {
          "name": "stdout",
          "output_type": "stream",
          "text": [
            "Para sair, digite sair\n",
            "Advinhe o número: 3\n",
            "Tentativa foi maior\n",
            "Advinhe o número: 2\n",
            "Tentativa foi maior\n",
            "Advinhe o número: 1\n",
            "Tetantia correta\n",
            "Advinhe o número: 1\n",
            "Tentativa foi menor\n",
            "Advinhe o número: 4\n",
            "Tentativa foi menor\n",
            "Advinhe o número: 67\n",
            "Tentativa foi maior\n",
            "Advinhe o número: 6\n",
            "Tentativa foi maior\n",
            "Advinhe o número: 5\n",
            "Tetantia correta\n",
            "Advinhe o número: 5\n",
            "Tetantia correta\n",
            "Advinhe o número: 5\n",
            "Tentativa foi menor\n",
            "Advinhe o número: sair\n"
          ]
        }
      ]
    },
    {
      "cell_type": "markdown",
      "source": [
        "##Exercício 5 - Remover duplicatas"
      ],
      "metadata": {
        "id": "ZB3xhxBKGrt2"
      }
    },
    {
      "cell_type": "code",
      "source": [
        "elms = set()\n",
        "print(\"Ao terminar de montar a lista, digite: sair\")\n",
        "\n",
        "while True:\n",
        "  elm = input(\"Digite algo: \")\n",
        "  if elm == \"sair\":\n",
        "    break\n",
        "\n",
        "  elms.add(elm)\n",
        "\n",
        "newElms = list(dict.fromkeys(elms))\n",
        "print(newElms) "
      ],
      "metadata": {
        "colab": {
          "base_uri": "https://localhost:8080/"
        },
        "id": "JG7emQHNGskf",
        "outputId": "22ed71b3-3c2e-422d-c359-f13a0715cc90"
      },
      "execution_count": 17,
      "outputs": [
        {
          "output_type": "stream",
          "name": "stdout",
          "text": [
            "Ao terminar de montar a lista, digite: sair\n",
            "Digite algo: Patrick\n",
            "Digite algo: Trick\n",
            "Digite algo: Bassan\n",
            "Digite algo: Freitas\n",
            "Digite algo: Assan\n",
            "Digite algo: Bass\n",
            "Digite algo: Bassan\n",
            "Digite algo: Patrick\n",
            "Digite algo: patrick\n",
            "Digite algo: sair\n",
            "['Freitas', 'Bass', 'Trick', 'patrick', 'Assan', 'Patrick', 'Bassan']\n"
          ]
        }
      ]
    },
    {
      "cell_type": "markdown",
      "source": [
        "##Exercício 6 - Gerador de Senhas"
      ],
      "metadata": {
        "id": "QUT209WkGtqi"
      }
    },
    {
      "cell_type": "code",
      "source": [
        "import random\n",
        "import string\n",
        "\n",
        "length = int(input('Digite o tamanha desejado para a senha: '))\n",
        "\n",
        "all = string.ascii_letters + string.digits + string.punctuation\n",
        "password = \"\".join(random.sample(all,length))\n",
        "\n",
        "print(\"Senha gerada: \" + password)"
      ],
      "metadata": {
        "colab": {
          "base_uri": "https://localhost:8080/"
        },
        "id": "_6HaoTB8GuKt",
        "outputId": "2a60f49b-b66c-414f-d69b-957f51199406"
      },
      "execution_count": 24,
      "outputs": [
        {
          "output_type": "stream",
          "name": "stdout",
          "text": [
            "Digite o tamanha desejado para a senha: 12\n",
            "Senha gerada: @BeMNEaIf]!\"\n"
          ]
        }
      ]
    },
    {
      "cell_type": "markdown",
      "source": [
        "##Exercício 7 - Leitura de arquivos"
      ],
      "metadata": {
        "id": "kIofY7GiGu8I"
      }
    },
    {
      "cell_type": "code",
      "source": [
        "text = open(\"names.txt\", \"r\")\n",
        "  \n",
        "d = dict()\n",
        "\n",
        "for line in text:\n",
        "    line = line.strip()\n",
        "    line = line.lower()\n",
        "    words = line.split(\" \")\n",
        "                         \n",
        "    for word in words:\n",
        "        if word in d:\n",
        "            d[word] = d[word] + 1\n",
        "        else:\n",
        "            d[word] = 1\n",
        "  \n",
        "for key in list(d.keys()):\n",
        "    print(key, \":\", d[key])"
      ],
      "metadata": {
        "colab": {
          "base_uri": "https://localhost:8080/"
        },
        "id": "pAG7fFtXGvDj",
        "outputId": "728ba939-3a5e-4719-facc-329276574c8a"
      },
      "execution_count": 26,
      "outputs": [
        {
          "output_type": "stream",
          "name": "stdout",
          "text": [
            "darth : 31\n",
            "luke : 15\n",
            "lea : 54\n"
          ]
        }
      ]
    },
    {
      "cell_type": "markdown",
      "source": [
        "##Exercício 8 - Bibliotecas"
      ],
      "metadata": {
        "id": "JeT7R2Q8GxJ9"
      }
    },
    {
      "cell_type": "code",
      "source": [
        "import requests\n",
        "url = \"https://www.nytimes.com/\"\n",
        "r = requests.get(url)\n",
        "raw_html = r.text\n",
        "\n",
        "from bs4 import BeautifulSoup\n",
        "\n",
        "soup = BeautifulSoup(raw_html)\n",
        "elms = soup.find_all(\"h3\", {\"class\": \"indicate-hover\"})\n",
        "\n",
        "for elm in elms:\n",
        "  print(elm.text)"
      ],
      "metadata": {
        "colab": {
          "base_uri": "https://localhost:8080/"
        },
        "id": "j4HSYovjGxdy",
        "outputId": "4beca161-5037-4af0-87c1-f9a1ffef3ff3"
      },
      "execution_count": 36,
      "outputs": [
        {
          "output_type": "stream",
          "name": "stdout",
          "text": [
            "Clashes Spread Across Sudan on Second Day of Fighting\n",
            "See maps and video footage of the violence across Sudan.\n",
            "Who is battling for control in Sudan? Here’s what to know about the clashes.\n",
            "How a Campaign Against Transgender Rights Mobilized Conservatives\n",
            "Bans on transition care for young people are spreading across the U.S.\n",
            "‘Kids Can’t Read’: The Revolt That Is Taking on the Education Establishment\n",
            "A Beauty Treatment Promised to Zap Fat. For Some, It Brought Disfigurement.\n",
            "When Freezing Sperm Makes a Patriotic Statement\n",
            "Hungary joined Poland in banning grain imports from Ukraine, a diplomatic setback to Kyiv.\n",
            "Analysis: The Pentagon leaks present new twists in a familiar plot.\n",
            "Analysis: Fox News Is on Trial, and So Are Falsehoods About 2020\n",
            "How Fast Is Eliud Kipchoge? You’ll Fall Down When You Find Out.\n",
            "See the whole route of the Boston Marathon.\n",
            "Winter Showers (and Showers and Showers) Bring a Bounty of Wildflowers\n",
            "The Nuggets Are in the Playoffs Again. Hold the Champagne.\n",
            "The Weekender: With A.I. Images, Can We Even Believe Our Eyes?\n",
            "Did you follow the news this week? Take our quiz.\n",
            "Can You Save for Both a Down Payment and Retirement?\n",
            "Here are 12 books you should be reading right now.\n",
            "Ana de Armas opened “Saturday Night Live”  with a bilingual monologue.\n",
            "Why Ron DeSantis Needs to Run for President in 2024\n",
            "The Surprising Thing A.I. Engineers Will Tell You if You Let Them\n",
            "Promising Signs for Free Speech on Campus\n",
            "How Gay Men Saved Us From Mpox\n",
            "Grandmothers of the World, Unite\n",
            "What Holocaust Storytellers Like Me Grew Up With\n",
            "What Happened to America? We Asked 12 People in Their 70s and 80s.\n",
            "How to Pray With Our Eyes Open\n",
            "A Justice in Trouble\n",
            "When the Mad Lead the Blind\n",
            "What a Girl’s Goat Teaches Us About Our Food\n",
            "The Threats to Our Democracy Have Gone Local\n",
            "Before Western States Suck the Colorado River Dry, We Have One Last Chance to Act\n",
            "Truth Is Drifting Away From True Crime\n",
            "What I Just Saw in China and Taiwan\n",
            "How to Pick the Right College for You\n",
            "Read The Morning\n",
            "Listen to ‘The Sunday Read’\n",
            "2 Dead and 4 Injured in Shooting at a Kentucky Park, Police Say\n",
            "Trump’s Fund-Raising: From Sluggish to Surging After Indictment\n",
            "Supreme Court Weighs Clash of Postal Worker’s Sabbath and Sunday Deliveries\n",
            "Bellyflops, Booms and Big Rockets: A Recap of SpaceX’s Starship Tests\n",
            "What We Know About the Killing of the Cash App Founder Bob Lee\n",
            "George Santos Received $5,300 in Donations. He Refunded Far More.\n",
            "Fire at Georgia Plastics Plant Prompts Evacuation Order\n",
            "Tulsa Reaches ‘Breakthrough’ in Search for Massacre Victims\n",
            "California and New York May Ban 5 Common Food Additives\n",
            "A Tiny Number of Shoplifters Commit Thousands of New York City Thefts\n",
            "When ‘the Kitten Lady’ Met ‘the Cat Photographer’\n",
            "How a Civil Rights Champion Spends Her Sundays\n",
            "‘I Opened the Door, Got in and Slumped’\n",
            "From Self-Taught Designer to Sought-After Couturier\n",
            "When Did You Realize Your Parents Were (Actually) Divorced?\n",
            "N.H.L. Playoff Picks: A Surprise Choice to Win the Stanley Cup\n",
            "Can a Young N.B.A. Star Finally Wear Stephen Curry Down?\n",
            "The Bronx Burners: The Base-Stealing Technique Transforming the Yankees\n",
            "How a Failed Executive Ended One of Hockey’s Greatest Streaks\n",
            "A Yankees Pitcher at the Center of a Controversy Says He Didn’t Cheat\n",
            "A Legendary College Gymnast Ends Her Career With a Perfect 10\n",
            "Wordle\n",
            "Today’s Wordle Review\n",
            "Spelling Bee\n",
            "The Crossword\n",
            "Letter Boxed\n",
            "Tiles\n"
          ]
        }
      ]
    },
    {
      "cell_type": "markdown",
      "source": [
        "##Exercício 9 - Gravar um arquivo"
      ],
      "metadata": {
        "id": "qkbK7WTHGyem"
      }
    },
    {
      "cell_type": "code",
      "source": [
        "import requests\n",
        "url = \"https://www.nytimes.com/\"\n",
        "r = requests.get(url)\n",
        "raw_html = r.text\n",
        "\n",
        "from bs4 import BeautifulSoup\n",
        "\n",
        "soup = BeautifulSoup(raw_html)\n",
        "elms = soup.find_all(\"h3\", {\"class\": \"indicate-hover\"})\n",
        "  \n",
        "with open(\"arquivo.txt\", \"w\") as open_file:\n",
        "  for elm in elms:\n",
        "    open_file.write(elm.text + \"\\n\")"
      ],
      "metadata": {
        "id": "HWA72rr1Gymh"
      },
      "execution_count": 40,
      "outputs": []
    }
  ]
}